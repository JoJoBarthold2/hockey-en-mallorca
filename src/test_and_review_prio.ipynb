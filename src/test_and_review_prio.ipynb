{
 "cells": [
  {
   "cell_type": "code",
   "execution_count": 17,
   "metadata": {},
   "outputs": [],
   "source": [
    "import gymnasium as gym\n",
    "from gymnasium import spaces\n",
    "import numpy as np\n",
    "import itertools\n",
    "import time\n",
    "import torch\n",
    "import pylab as plt\n",
    "# %matplotlib inline\n",
    "\n",
    "from agentic_dqn import DQN_AGENT_priotized_buffer as agent\n",
    "from agentic_dqn import PrioritizedReplayBuffer as prio_buffer\n",
    "from utils import running_mean\n",
    "import logging\n",
    "import imageio\n",
    "import os"
   ]
  },
  {
   "cell_type": "code",
   "execution_count": 18,
   "metadata": {},
   "outputs": [],
   "source": [
    "class DiscreteActionWrapper(gym.ActionWrapper):\n",
    "    def __init__(self, env: gym.Env, bins=5):\n",
    "        \"\"\"A wrapper for converting a 1D continuous actions into discrete ones.\n",
    "        Args:\n",
    "            env: The environment to apply the wrapper\n",
    "            bins: number of discrete actions\n",
    "        \"\"\"\n",
    "        assert isinstance(env.action_space, spaces.Box)\n",
    "        super().__init__(env)\n",
    "        self.bins = bins\n",
    "        self.orig_action_space = env.action_space\n",
    "        self.action_space = spaces.Discrete(self.bins)\n",
    "\n",
    "    def action(self, action):\n",
    "        \"\"\"discrete actions from low to high in 'bins'\n",
    "        Args:\n",
    "            action: The discrete action\n",
    "        Returns:\n",
    "            continuous action\n",
    "        \"\"\"\n",
    "        return self.orig_action_space.low + action / (self.bins - 1.0) * (\n",
    "            self.orig_action_space.high - self.orig_action_space.low\n",
    "        )\n"
   ]
  },
  {
   "cell_type": "code",
   "execution_count": 19,
   "metadata": {},
   "outputs": [],
   "source": [
    "seed1 = 7489\n",
    "seed2 = 1312\n",
    "\n",
    "SEEDS_TEST = [291, 292, 293, 294, 295] \n",
    "torch.manual_seed(seed1)\n",
    "np.random.seed(seed1)"
   ]
  },
  {
   "cell_type": "code",
   "execution_count": 20,
   "metadata": {},
   "outputs": [],
   "source": [
    "logging.basicConfig(level=logging.INFO, format=\"%(asctime)s - %(levelname)s - %(message)s\")"
   ]
  },
  {
   "cell_type": "markdown",
   "metadata": {},
   "source": [
    "### Test in env "
   ]
  },
  {
   "cell_type": "code",
   "execution_count": 21,
   "metadata": {},
   "outputs": [
    {
     "name": "stdout",
     "output_type": "stream",
     "text": [
      "Discrete(4)\n",
      "Box([ -2.5        -2.5       -10.        -10.         -6.2831855 -10.\n",
      "  -0.         -0.       ], [ 2.5        2.5       10.        10.         6.2831855 10.\n",
      "  1.         1.       ], (8,), float32)\n",
      "[(-2.5, 2.5), (-2.5, 2.5), (-10.0, 10.0), (-10.0, 10.0), (-6.2831855, 6.2831855), (-10.0, 10.0), (-0.0, 1.0), (-0.0, 1.0)]\n"
     ]
    }
   ],
   "source": [
    "#env_name = 'Pendulum-v1'\n",
    "#env_name = 'CartPole-v0'\n",
    "env_name = 'LunarLander-v3'\n",
    "\n",
    "env = gym.make(env_name,render_mode=\"rgb_array\")\n",
    "if isinstance(env.action_space, spaces.Box):\n",
    "    env = DiscreteActionWrapper(env,5)\n",
    "\n",
    "ac_space = env.action_space\n",
    "o_space = env.observation_space\n",
    "print(ac_space)\n",
    "print(o_space)\n",
    "print(list(zip(env.observation_space.low, env.observation_space.high)))\n",
    "alpha = 0.2\n",
    "beta = 0.4\n",
    "\n",
    "config = {\n",
    "            \"eps\": 0.05,  # Epsilon in epsilon greedy policies\n",
    "            \"discount\": 0.99,\n",
    "            \"buffer_size\": int(1e5),\n",
    "            \"batch_size\": 128,\n",
    "            \"learning_rate\": 0.0001,\n",
    "            \"update_target_every\": 128,\n",
    "            \"use_target_net\": True,\n",
    "            \"prioritized_replay_eps\": 1e-6,\n",
    "        }"
   ]
  },
  {
   "cell_type": "code",
   "execution_count": 22,
   "metadata": {},
   "outputs": [
    {
     "name": "stderr",
     "output_type": "stream",
     "text": [
      "2025-01-25 17:58:12,120 - INFO - Using device: cpu\n"
     ]
    }
   ],
   "source": [
    "use_target = True\n",
    "target_update = 20\n",
    "q_agent = agent(o_space, ac_space, discount=0.95, eps=0.2, \n",
    "                   use_target_net=use_target, update_target_every= target_update, alpha =  alpha, beta = beta, config = config, n_steps=8)"
   ]
  },
  {
   "cell_type": "code",
   "execution_count": 23,
   "metadata": {},
   "outputs": [],
   "source": [
    "ob,_info = env.reset()\n",
    "q_agent.Q.predict(ob)\n",
    "\n",
    "\n",
    "stats = []\n",
    "losses = []"
   ]
  },
  {
   "cell_type": "code",
   "execution_count": 24,
   "metadata": {
    "scrolled": true
   },
   "outputs": [
    {
     "name": "stdout",
     "output_type": "stream",
     "text": [
      "Creating new buffer with size:  100000\n",
      "Transitions shape:  5\n",
      "1: Done after 55 steps. Reward: -250.69353995845094 beta: 0.4000737142857143 frames: 172\n",
      "21: Done after 95 steps. Reward: -61.9752744508184 beta: 0.4007388571428572 frames: 1724\n",
      "41: Done after 500 steps. Reward: -69.69611728753839 beta: 0.40257185714285715 frames: 6001\n",
      "61: Done after 166 steps. Reward: -196.9347683529511 beta: 0.40504685714285715 frames: 11776\n",
      "81: Done after 283 steps. Reward: -105.32639358595209 beta: 0.4074061428571429 frames: 17281\n",
      "101: Done after 211 steps. Reward: -41.04251687296862 beta: 0.40997328571428576 frames: 23271\n",
      "121: Done after 332 steps. Reward: -187.85366602737972 beta: 0.41206128571428574 frames: 28143\n",
      "141: Done after 500 steps. Reward: -12.872602228884169 beta: 0.4154251428571429 frames: 35992\n",
      "161: Done after 500 steps. Reward: -16.02589040771934 beta: 0.41885028571428573 frames: 43984\n",
      "181: Done after 500 steps. Reward: -48.258569650691925 beta: 0.4228501428571429 frames: 53317\n",
      "201: Done after 500 steps. Reward: 13.224916904213167 beta: 0.4266095714285715 frames: 62089\n",
      "221: Done after 500 steps. Reward: -4.944747721260573 beta: 0.43064542857142857 frames: 71506\n",
      "241: Done after 500 steps. Reward: -34.46591425237274 beta: 0.4347044285714286 frames: 80977\n",
      "261: Done after 500 steps. Reward: -6.127084084461714 beta: 0.438883 frames: 90727\n",
      "281: Done after 500 steps. Reward: -5.999425732375788 beta: 0.4431687142857143 frames: 100727\n",
      "301: Done after 500 steps. Reward: -6.1928456271343295 beta: 0.4474544285714286 frames: 110727\n",
      "321: Done after 500 steps. Reward: -27.846743133031186 beta: 0.45174014285714287 frames: 120727\n",
      "341: Done after 500 steps. Reward: 13.52436765329478 beta: 0.45602585714285715 frames: 130727\n",
      "361: Done after 500 steps. Reward: 22.47594337625237 beta: 0.46031157142857143 frames: 140727\n",
      "381: Done after 500 steps. Reward: -6.635997027530349 beta: 0.4645972857142857 frames: 150727\n",
      "401: Done after 500 steps. Reward: 12.995415306934177 beta: 0.4687767142857143 frames: 160479\n",
      "421: Done after 500 steps. Reward: 6.475957757209763 beta: 0.47304614285714286 frames: 170441\n",
      "441: Done after 500 steps. Reward: 21.077428915358016 beta: 0.4772401428571429 frames: 180227\n",
      "461: Done after 500 steps. Reward: -14.655085624976836 beta: 0.4811371428571429 frames: 189320\n",
      "481: Done after 500 steps. Reward: 60.7984258442343 beta: 0.48499257142857144 frames: 198316\n",
      "501: Done after 500 steps. Reward: 14.085360149633143 beta: 0.48883385714285715 frames: 207279\n",
      "521: Done after 500 steps. Reward: -21.64986216557391 beta: 0.4929258571428572 frames: 216827\n",
      "541: Done after 406 steps. Reward: -91.27498753592674 beta: 0.4971712857142857 frames: 226733\n",
      "561: Done after 500 steps. Reward: 20.181428339996533 beta: 0.5013845714285714 frames: 236564\n",
      "581: Done after 500 steps. Reward: -12.02907513845501 beta: 0.5056702857142857 frames: 246564\n",
      "601: Done after 500 steps. Reward: 3.9509461016415957 beta: 0.5097871428571429 frames: 256170\n",
      "621: Done after 500 steps. Reward: 6.786709269379197 beta: 0.513856 frames: 265664\n",
      "641: Done after 500 steps. Reward: 0.8138811657145903 beta: 0.5177701428571428 frames: 274797\n",
      "661: Done after 500 steps. Reward: 24.672075165480187 beta: 0.5219452857142858 frames: 284539\n",
      "681: Done after 500 steps. Reward: 6.311744804662893 beta: 0.5260124285714286 frames: 294029\n",
      "701: Done after 500 steps. Reward: 52.53909717560741 beta: 0.5300212857142858 frames: 303383\n",
      "721: Done after 500 steps. Reward: -9.255711472620362 beta: 0.534091 frames: 312879\n",
      "741: Done after 500 steps. Reward: 40.11491074923819 beta: 0.538123 frames: 322287\n",
      "761: Done after 500 steps. Reward: 36.12848639597982 beta: 0.5424087142857144 frames: 332287\n",
      "781: Done after 500 steps. Reward: 36.26012633027342 beta: 0.5465371428571428 frames: 341920\n",
      "801: Done after 500 steps. Reward: 148.10601271498822 beta: 0.5506355714285714 frames: 351483\n",
      "821: Done after 500 steps. Reward: 125.44038287537558 beta: 0.5547618571428572 frames: 361111\n",
      "841: Done after 500 steps. Reward: 133.83406791390632 beta: 0.5587865714285715 frames: 370502\n",
      "861: Done after 409 steps. Reward: -70.64940319245137 beta: 0.5623895714285714 frames: 378909\n",
      "881: Done after 373 steps. Reward: -56.74034624307252 beta: 0.5663122857142857 frames: 388062\n",
      "901: Done after 347 steps. Reward: -64.48391132004052 beta: 0.5701767142857144 frames: 397079\n",
      "921: Done after 500 steps. Reward: 65.65294516522194 beta: 0.574024 frames: 406056\n",
      "941: Done after 284 steps. Reward: -74.26836383856195 beta: 0.5775605714285714 frames: 414308\n",
      "961: Done after 500 steps. Reward: 110.87313051911477 beta: 0.5813714285714287 frames: 423200\n",
      "981: Done after 500 steps. Reward: 121.87699070439156 beta: 0.5853884285714286 frames: 432573\n",
      "1001: Done after 500 steps. Reward: 74.16294279738727 beta: 0.5894705714285715 frames: 442098\n",
      "1021: Done after 500 steps. Reward: 12.372501465840276 beta: 0.5928451428571428 frames: 449972\n",
      "1041: Done after 500 steps. Reward: 104.05527160978613 beta: 0.5967442857142857 frames: 459070\n",
      "1061: Done after 500 steps. Reward: 33.79682886654051 beta: 0.6007261428571429 frames: 468361\n",
      "1081: Done after 500 steps. Reward: 87.9216622412885 beta: 0.6046458571428572 frames: 477507\n",
      "1101: Done after 500 steps. Reward: 53.4834661093662 beta: 0.608788 frames: 487172\n",
      "1121: Done after 500 steps. Reward: 74.00387519229287 beta: 0.6128131428571428 frames: 496564\n",
      "1141: Done after 500 steps. Reward: 92.07516325248737 beta: 0.6167911428571429 frames: 505846\n",
      "1161: Done after 500 steps. Reward: 104.690343101069 beta: 0.6207635714285714 frames: 515115\n",
      "1181: Done after 500 steps. Reward: 33.95429551471908 beta: 0.6248208571428572 frames: 524582\n",
      "1201: Done after 500 steps. Reward: 121.99475423567702 beta: 0.6288888571428571 frames: 534074\n",
      "1221: Done after 500 steps. Reward: 81.54637236754643 beta: 0.6329804285714286 frames: 543621\n",
      "1241: Done after 500 steps. Reward: 70.03304029431449 beta: 0.6372451428571428 frames: 553572\n",
      "1261: Done after 500 steps. Reward: 60.116582735569 beta: 0.6412938571428571 frames: 563019\n",
      "1281: Done after 500 steps. Reward: 117.96587462275996 beta: 0.6454891428571429 frames: 572808\n",
      "1301: Done after 500 steps. Reward: 96.94030297065797 beta: 0.64963 frames: 582470\n",
      "1321: Done after 500 steps. Reward: 106.88551779756489 beta: 0.653848 frames: 592312\n",
      "1341: Done after 388 steps. Reward: 225.28265522142686 beta: 0.6578954285714286 frames: 601756\n",
      "1361: Done after 500 steps. Reward: 157.61144636317036 beta: 0.6619634285714286 frames: 611248\n",
      "1381: Done after 500 steps. Reward: 137.70128356128606 beta: 0.6662405714285715 frames: 621228\n",
      "1401: Done after 500 steps. Reward: 123.74702421383316 beta: 0.6704924285714285 frames: 631149\n",
      "1421: Done after 500 steps. Reward: 103.62639229424417 beta: 0.6747781428571429 frames: 641149\n",
      "1441: Done after 247 steps. Reward: -31.050942576119127 beta: 0.6788825714285714 frames: 650726\n",
      "1461: Done after 444 steps. Reward: 186.33912703152265 beta: 0.6829522857142858 frames: 660222\n",
      "1481: Done after 333 steps. Reward: -29.471573014923095 beta: 0.6870095714285714 frames: 669689\n",
      "1501: Done after 500 steps. Reward: 193.55438690890503 beta: 0.6910724285714286 frames: 679169\n",
      "1521: Done after 500 steps. Reward: 121.14779425864643 beta: 0.6950542857142857 frames: 688460\n",
      "1541: Done after 500 steps. Reward: 102.25339497550551 beta: 0.6992928571428572 frames: 698350\n",
      "1561: Done after 500 steps. Reward: 65.32951616813413 beta: 0.7034795714285714 frames: 708119\n",
      "1581: Done after 500 steps. Reward: 124.66772164211281 beta: 0.7076315714285715 frames: 717807\n",
      "1601: Done after 500 steps. Reward: 99.97605500142517 beta: 0.7117252857142857 frames: 727359\n",
      "1621: Done after 500 steps. Reward: 105.26692209839176 beta: 0.7157118571428571 frames: 736661\n",
      "1641: Done after 500 steps. Reward: 132.88906885085794 beta: 0.7194635714285714 frames: 745415\n",
      "1661: Done after 280 steps. Reward: 4.4953791518008615 beta: 0.7233609999999999 frames: 754509\n",
      "1681: Done after 500 steps. Reward: 117.11981477848406 beta: 0.7274915714285715 frames: 764147\n",
      "1701: Done after 500 steps. Reward: 137.33881747797108 beta: 0.7313054285714286 frames: 773046\n",
      "1721: Done after 500 steps. Reward: 138.7652317446591 beta: 0.7351535714285715 frames: 782025\n",
      "1741: Done after 175 steps. Reward: 41.72311382302095 beta: 0.7389562857142857 frames: 790898\n",
      "1761: Done after 500 steps. Reward: 73.22188820961198 beta: 0.7427067142857142 frames: 799649\n",
      "1781: Done after 500 steps. Reward: -11.729398147333448 beta: 0.746962 frames: 809578\n",
      "1801: Done after 288 steps. Reward: -53.119399861210994 beta: 0.7507381428571429 frames: 818389\n",
      "1821: Done after 500 steps. Reward: 117.38941113273593 beta: 0.7548747142857143 frames: 828041\n",
      "1841: Done after 500 steps. Reward: 111.82681736321251 beta: 0.758719 frames: 837011\n",
      "1861: Done after 500 steps. Reward: 136.91991554947134 beta: 0.7627814285714286 frames: 846490\n",
      "1881: Done after 500 steps. Reward: 119.91948309144804 beta: 0.7668438571428571 frames: 855969\n",
      "1901: Done after 500 steps. Reward: 110.69768572086716 beta: 0.7708908571428572 frames: 865412\n",
      "1921: Done after 500 steps. Reward: 83.97179743137357 beta: 0.7750788571428572 frames: 875184\n",
      "1941: Done after 500 steps. Reward: 145.90602108756852 beta: 0.7790872857142856 frames: 884537\n",
      "1961: Done after 500 steps. Reward: 129.5197851242421 beta: 0.7830978571428572 frames: 893895\n",
      "1981: Done after 500 steps. Reward: 138.3053233946129 beta: 0.7870844285714286 frames: 903197\n"
     ]
    }
   ],
   "source": [
    "\"\"\"max_episodes=500\n",
    "max_steps=500 \n",
    "for i in range(max_episodes):\n",
    "    # print(\"Starting a new episode\")    \n",
    "    total_reward = 0\n",
    "    ob, _info = env.reset()\n",
    "    for t in range(max_steps):\n",
    "        done = False        \n",
    "        a = q_agent.act(ob)\n",
    "        (ob_new, reward, done, trunc, _info) = env.step(a)\n",
    "        total_reward+= reward\n",
    "        q_agent.store_transition((ob, a, reward, ob_new, done))            \n",
    "        ob=ob_new        \n",
    "        if done: break    \n",
    "    losses.extend(q_agent.train(32))\n",
    "    stats.append([i,total_reward,t+1])    \n",
    "    \n",
    "    if ((i-1)%20==0):\n",
    "        print(\"{}: Done after {} steps. Reward: {}\".format(i, t+1, total_reward))\"\"\"\n",
    "\n",
    "\n",
    "stats, losses = q_agent.train(env = env, max_episodes=2000)"
   ]
  },
  {
   "cell_type": "code",
   "execution_count": 25,
   "metadata": {},
   "outputs": [
    {
     "data": {
      "text/plain": [
       "<matplotlib.legend.Legend at 0x76bb027d7710>"
      ]
     },
     "execution_count": 25,
     "metadata": {},
     "output_type": "execute_result"
    },
    {
     "data": {
      "image/png": "[encoded data removed]",
      "text/plain": [
       "<Figure size 600x380 with 1 Axes>"
      ]
     },
     "metadata": {},
     "output_type": "display_data"
    }
   ],
   "source": [
    "stats_np = np.asarray(stats)\n",
    "losses_np = np.asarray(losses)\n",
    "fig=plt.figure(figsize=(6,3.8))\n",
    "plt.plot(stats_np[:,1], label=\"return\")\n",
    "plt.plot(running_mean(stats_np[:,1],20), label=\"smoothed-return\")\n",
    "plt.legend()"
   ]
  },
  {
   "cell_type": "code",
   "execution_count": 26,
   "metadata": {},
   "outputs": [],
   "source": [
    "fig.savefig(f\"DQN_withPER_{env_name}_training_w_target_{use_target}-update-{target_update}_alpha{alpha}_beta{beta}.pdf\")"
   ]
  },
  {
   "cell_type": "code",
   "execution_count": 27,
   "metadata": {},
   "outputs": [
    {
     "data": {
      "text/plain": [
       "[<matplotlib.lines.Line2D at 0x76bb02866fc0>]"
      ]
     },
     "execution_count": 27,
     "metadata": {},
     "output_type": "execute_result"
    },
    {
     "data": {
      "image/png": "[encoded data removed]",
      "text/plain": [
       "<Figure size 640x480 with 1 Axes>"
      ]
     },
     "metadata": {},
     "output_type": "display_data"
    }
   ],
   "source": [
    "plt.figure()\n",
    "plt.plot(losses_np)"
   ]
  },
  {
   "cell_type": "code",
   "execution_count": 28,
   "metadata": {},
   "outputs": [
    {
     "data": {
      "text/plain": [
       "100000"
      ]
     },
     "execution_count": 28,
     "metadata": {},
     "output_type": "execute_result"
    }
   ],
   "source": [
    "q_agent.buffer.size"
   ]
  },
  {
   "cell_type": "markdown",
   "metadata": {},
   "source": [
    "# Evaluate "
   ]
  },
  {
   "cell_type": "code",
   "execution_count": 29,
   "metadata": {},
   "outputs": [],
   "source": [
    "env_eval = gym.make(env_name, render_mode=\"human\")\n",
    "if isinstance(env.action_space, spaces.Box):\n",
    "    env_eval = DiscreteActionWrapper(env_eval,5)"
   ]
  },
  {
   "cell_type": "code",
   "execution_count": 30,
   "metadata": {},
   "outputs": [],
   "source": [
    "test_stats = []\n",
    "episodes=50\n",
    "max_steps=500\n",
    "env_ = env    # without rendering\n",
    "#env_ = env_eval # with rendering\n",
    "\n",
    "for i in range(episodes):\n",
    "    total_reward = 0\n",
    "    ob, _info = env_.reset()\n",
    "    for t in range(max_steps):\n",
    "        done = False        \n",
    "        a = q_agent.act(ob, eps=0.0)\n",
    "        (ob_new, reward, done, trunc, _info) = env_.step(a)\n",
    "        total_reward+= reward\n",
    "        ob=ob_new        \n",
    "        if done: break    \n",
    "    test_stats.append([i,total_reward,t+1]) "
   ]
  },
  {
   "cell_type": "code",
   "execution_count": 31,
   "metadata": {},
   "outputs": [
    {
     "name": "stdout",
     "output_type": "stream",
     "text": [
      "127.72681345882847 +- 92.08474915058123\n"
     ]
    }
   ],
   "source": [
    "test_stats_np = np.array(test_stats)\n",
    "print(np.mean(test_stats_np[:,1]), \"+-\", np.std(test_stats_np[:,1]))"
   ]
  },
  {
   "cell_type": "code",
   "execution_count": 33,
   "metadata": {},
   "outputs": [
    {
     "name": "stdout",
     "output_type": "stream",
     "text": [
      "Test Episode 1, Total Reward: 194.62073511443415\n",
      "making gif\n",
      "gif made\n",
      "Test Episode 2, Total Reward: 176.31423053081488\n",
      "making gif\n",
      "gif made\n",
      "Test Episode 3, Total Reward: 71.17122387912391\n",
      "making gif\n",
      "gif made\n",
      "Test Episode 4, Total Reward: 187.43010090780902\n",
      "making gif\n",
      "gif made\n",
      "Test Episode 5, Total Reward: 239.6591543897995\n",
      "making gif\n",
      "gif made\n"
     ]
    }
   ],
   "source": [
    "test_episodes = len(SEEDS_TEST)\n",
    "test_rewards = []\n",
    "\n",
    "max_steps = 1000\n",
    "\n",
    "for episode in range(test_episodes):\n",
    "    state = env.reset(seed = SEEDS_TEST[episode])\n",
    "    state = state[0] if isinstance(state, tuple) else state\n",
    "    done = False\n",
    "    total_reward = 0\n",
    "    frames = []\n",
    "    \n",
    "    for t in range(max_steps):\n",
    "        frame = env.render()\n",
    "        if frame is not None:\n",
    "            frames.append(frame)\n",
    "        action = q_agent.act(observation= state)  # Fully greedy policy\n",
    "        next_state, reward, done, truncated, _ = env.step(action)\n",
    "        state = next_state\n",
    "        total_reward += reward\n",
    "        print(f\"Step {t+1}, Total Reward: {total_reward}\", end=\"\\r\")\n",
    "        if done: break\n",
    "    \n",
    "    test_rewards.append(total_reward)\n",
    "    print(f\"Test Episode {episode+1}, Total Reward: {total_reward}\")\n",
    "    \n",
    "    if frames:\n",
    "        os.makedirs(f\"{env_name}/test_gifs\", exist_ok=True)\n",
    "        print(\"making gif\")\n",
    "        imageio.mimsave(f\"{env_name}/test_gifs/test_episode_{episode+1}_{env_name}.gif\", frames, fps=30)\n",
    "        print(\"gif made\")\n",
    "\n",
    "env.close()\n",
    "\n"
   ]
  },
  {
   "cell_type": "code",
   "execution_count": null,
   "metadata": {},
   "outputs": [],
   "source": []
  }
 ],
 "metadata": {
  "kernelspec": {
   "display_name": "Gym-RL",
   "language": "python",
   "name": "gym-rl"
  },
  "language_info": {
   "codemirror_mode": {
    "name": "ipython",
    "version": 3
   },
   "file_extension": ".py",
   "mimetype": "text/x-python",
   "name": "python",
   "nbconvert_exporter": "python",
   "pygments_lexer": "ipython3",
   "version": "3.12.2"
  }
 },
 "nbformat": 4,
 "nbformat_minor": 4
}
