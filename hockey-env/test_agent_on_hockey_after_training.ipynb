{
 "cells": [
  {
   "cell_type": "code",
   "execution_count": 3,
   "metadata": {},
   "outputs": [],
   "source": [
    "import numpy as np\n",
    "import torch\n",
    "import gymnasium as gym\n",
    "from gymnasium import spaces\n",
    "\n",
    "import imageio\n",
    "import os\n",
    "import random\n",
    "\n",
    "from Dueling_DQN_Agent.Dueling_DQN_Agent import Dueling_DQN_Agent\n",
    "import Dueling_DQN_Agent.utils.help_classes as hc\n",
    "import Dueling_DQN_Agent.utils.stats_functions as sf\n",
    "\n",
    "import hockey.hockey_env as h_env\n",
    "\n",
    "from importlib import reload"
   ]
  },
  {
   "cell_type": "code",
   "execution_count": 4,
   "metadata": {},
   "outputs": [],
   "source": [
    "SEED_TRAIN_1 = 7489\n",
    "SEED_TRAIN_2 = 1312\n",
    "SEEDS_TEST = [291, 292, 293, 294, 295]\n",
    "\n",
    "seed = SEED_TRAIN_1"
   ]
  },
  {
   "cell_type": "code",
   "execution_count": 9,
   "metadata": {},
   "outputs": [
    {
     "name": "stdout",
     "output_type": "stream",
     "text": [
      "Network loaded from Hockey_100000_30000_(256_256_128)/weights/episode_70000.pth\n"
     ]
    },
    {
     "name": "stderr",
     "output_type": "stream",
     "text": [
      "/home/pablosbl/Documents/GitHub/hockey-en-mallorca/.venv/lib/python3.10/site-packages/gymnasium/envs/registration.py:642: UserWarning: \u001b[33mWARN: Overriding environment Hockey-v0 already in registry.\u001b[0m\n",
      "  logger.warn(f\"Overriding environment {new_spec.id} already in registry.\")\n",
      "/home/pablosbl/Documents/GitHub/hockey-en-mallorca/.venv/lib/python3.10/site-packages/gymnasium/envs/registration.py:642: UserWarning: \u001b[33mWARN: Overriding environment Hockey-One-v0 already in registry.\u001b[0m\n",
      "  logger.warn(f\"Overriding environment {new_spec.id} already in registry.\")\n",
      "/home/pablosbl/Documents/GitHub/hockey-en-mallorca/hockey-env/Dueling_DQN_Agent/QFunction.py:60: FutureWarning: You are using `torch.load` with `weights_only=False` (the current default value), which uses the default pickle module implicitly. It is possible to construct malicious pickle data which will execute arbitrary code during unpickling (See https://github.com/pytorch/pytorch/blob/main/SECURITY.md#untrusted-models for more details). In a future release, the default value for `weights_only` will be flipped to `True`. This limits the functions that could be executed during unpickling. Arbitrary objects will no longer be allowed to be loaded via this mode unless they are explicitly allowlisted by the user via `torch.serialization.add_safe_globals`. We recommend you start setting `weights_only=True` for any use case where you don't have full control of the loaded file. Please open an issue on GitHub for any issues related to this experimental feature.\n",
      "  self.load_state_dict(torch.load(f\"{env_name}/weights/{name}.pth\"))\n"
     ]
    }
   ],
   "source": [
    "reload(h_env)\n",
    "env_name = \"Hockey_100000_30000_(256_256_128)\"\n",
    "env = h_env.HockeyEnv()\n",
    "\n",
    "state_space = env.observation_space\n",
    "action_space = env.discrete_action_space\n",
    "\n",
    "agent = Dueling_DQN_Agent(state_space, action_space, seed = seed, use_eps_decay = True, hidden_sizes = [256, 256, 128]) \n",
    "opponent = h_env.BasicOpponent()\n",
    "agent.Q.load(env_name, name = \"episode_70000\")\n",
    "#stats, losses = sf.load_stats(\"Hockey_30000_20000_(128_128)\")"
   ]
  },
  {
   "cell_type": "code",
   "execution_count": null,
   "metadata": {},
   "outputs": [],
   "source": [
    "#sf.plot_returns(stats, env_name)"
   ]
  },
  {
   "cell_type": "code",
   "execution_count": null,
   "metadata": {},
   "outputs": [],
   "source": [
    "#sf.plot_losses(losses, env_name)"
   ]
  },
  {
   "cell_type": "code",
   "execution_count": 10,
   "metadata": {},
   "outputs": [
    {
     "name": "stdout",
     "output_type": "stream",
     "text": [
      "Test Episode 1, Total Reward: 9.953949116210714\n",
      "Test Episode 2, Total Reward: -15.646203706965611\n",
      "Test Episode 3, Total Reward: -12.510303356896264\n",
      "Test Episode 4, Total Reward: 9.498320859391255\n",
      "Test Episode 5, Total Reward: -11.381851408738452\n",
      "Plot saved at Hockey_100000_30000_(256_256_128)/stats/plots/test_results.png\n"
     ]
    },
    {
     "data": {
      "image/png": "[encoded data removed]",
      "text/plain": [
       "<Figure size 600x380 with 1 Axes>"
      ]
     },
     "metadata": {},
     "output_type": "display_data"
    }
   ],
   "source": [
    "test_episodes = len(SEEDS_TEST)\n",
    "test_rewards = []\n",
    "\n",
    "max_steps = 1000\n",
    "\n",
    "for episode in range(test_episodes):\n",
    "\n",
    "    state, _ = env.reset(seed = SEEDS_TEST[episode])\n",
    "    state = state[0] if isinstance(state, tuple) else state  # Handle Gymnasium compatibility\n",
    "\n",
    "    obs_agent2 = env.obs_agent_two()\n",
    "    obs_agent2 = obs_agent2[0] if isinstance(obs_agent2, tuple) else obs_agent2\n",
    "\n",
    "    total_reward = 0\n",
    "\n",
    "    frames = []\n",
    "    \n",
    "    for t in range(max_steps):\n",
    "\n",
    "        done = False\n",
    "\n",
    "        frame = env.render(mode = \"rgb_array\")\n",
    "        if frame is not None:\n",
    "            frames.append(frame)\n",
    "\n",
    "        #a1 = env.discrete_to_continous_action(agent.perform_greedy_action(state))\n",
    "        a1 = agent.perform_greedy_action(state, eps = 0.0)\n",
    "        a2 = opponent.act(obs_agent2)\n",
    "        full_action = np.hstack([env.discrete_to_continous_action(a1), a2])\n",
    "\n",
    "        next_state, reward, done, truncated, _ = env.step(full_action)\n",
    "        \n",
    "        total_reward += reward\n",
    "\n",
    "        agent.buffer.add_transition((state, a1, reward, next_state, done))      # Store transition in the agent\"s memory and then train\n",
    "\n",
    "        state = next_state\n",
    "        obs_agent2 = env.obs_agent_two()\n",
    "\n",
    "        if done or truncated: break\n",
    "\n",
    "    test_rewards.append(total_reward)\n",
    "    print(f\"Test Episode {episode+1}, Total Reward: {total_reward}\")\n",
    "    \n",
    "    if frames:\n",
    "        os.makedirs(f\"{env_name}/test_gifs\", exist_ok=True)\n",
    "        imageio.mimsave(f\"{env_name}/test_gifs/test_episode_{episode+1}.gif\", frames, fps=30)\n",
    "\n",
    "env.close()\n",
    "\n",
    "sf.save_test_results(env_name, test_rewards)"
   ]
  },
  {
   "cell_type": "code",
   "execution_count": null,
   "metadata": {},
   "outputs": [],
   "source": []
  }
 ],
 "metadata": {
  "kernelspec": {
   "display_name": ".venv",
   "language": "python",
   "name": "python3"
  },
  "language_info": {
   "codemirror_mode": {
    "name": "ipython",
    "version": 3
   },
   "file_extension": ".py",
   "mimetype": "text/x-python",
   "name": "python",
   "nbconvert_exporter": "python",
   "pygments_lexer": "ipython3",
   "version": "3.10.16"
  }
 },
 "nbformat": 4,
 "nbformat_minor": 2
}
