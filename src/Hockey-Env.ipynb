{
 "cells": [
  {
   "cell_type": "code",
   "execution_count": 1,
   "metadata": {
    "ExecuteTime": {
     "end_time": "2023-08-06T09:50:57.173010Z",
     "start_time": "2023-08-06T09:50:57.020693Z"
    }
   },
   "outputs": [],
   "source": [
    "import numpy as np\n",
    "import hockey.hockey_env as h_env\n",
    "import gymnasium as gym\n",
    "from importlib import reload\n",
    "import time"
   ]
  },
  {
   "cell_type": "code",
   "execution_count": 2,
   "metadata": {
    "ExecuteTime": {
     "end_time": "2023-08-06T09:50:57.395437Z",
     "start_time": "2023-08-06T09:50:57.391762Z"
    }
   },
   "outputs": [],
   "source": [
    "np.set_printoptions(suppress=True)"
   ]
  },
  {
   "cell_type": "code",
   "execution_count": 3,
   "metadata": {
    "ExecuteTime": {
     "end_time": "2023-08-06T09:50:57.740940Z",
     "start_time": "2023-08-06T09:50:57.722052Z"
    }
   },
   "outputs": [
    {
     "name": "stderr",
     "output_type": "stream",
     "text": [
      "/home/vaile/miniconda3/lib/python3.12/site-packages/gymnasium/envs/registration.py:642: UserWarning: \u001b[33mWARN: Overriding environment Hockey-v0 already in registry.\u001b[0m\n",
      "  logger.warn(f\"Overriding environment {new_spec.id} already in registry.\")\n",
      "/home/vaile/miniconda3/lib/python3.12/site-packages/gymnasium/envs/registration.py:642: UserWarning: \u001b[33mWARN: Overriding environment Hockey-One-v0 already in registry.\u001b[0m\n",
      "  logger.warn(f\"Overriding environment {new_spec.id} already in registry.\")\n"
     ]
    },
    {
     "data": {
      "text/plain": [
       "<module 'hockey.hockey_env' from '/home/vaile/miniconda3/lib/python3.12/site-packages/hockey/hockey_env.py'>"
      ]
     },
     "execution_count": 3,
     "metadata": {},
     "output_type": "execute_result"
    }
   ],
   "source": [
    "reload(h_env)"
   ]
  },
  {
   "cell_type": "markdown",
   "metadata": {
    "ExecuteTime": {
     "end_time": "2018-12-20T21:03:35.086427Z",
     "start_time": "2018-12-20T21:03:35.082123Z"
    }
   },
   "source": [
    "# Normal Game Play"
   ]
  },
  {
   "cell_type": "code",
   "execution_count": 4,
   "metadata": {
    "ExecuteTime": {
     "end_time": "2023-08-06T09:39:16.240266Z",
     "start_time": "2023-08-06T09:39:16.231831Z"
    }
   },
   "outputs": [],
   "source": [
    "env = h_env.HockeyEnv()"
   ]
  },
  {
   "cell_type": "markdown",
   "metadata": {},
   "source": [
    "have a look at the initialization condition: alternating who starts and are random in puck position"
   ]
  },
  {
   "cell_type": "code",
   "execution_count": 5,
   "metadata": {
    "ExecuteTime": {
     "end_time": "2023-08-06T09:39:17.533706Z",
     "start_time": "2023-08-06T09:39:17.182784Z"
    }
   },
   "outputs": [],
   "source": [
    "obs, info = env.reset()\n",
    "obs_agent2 = env.obs_agent_two()\n",
    "_ = env.render()"
   ]
  },
  {
   "cell_type": "markdown",
   "metadata": {},
   "source": [
    "one episode with random agents"
   ]
  },
  {
   "cell_type": "code",
   "execution_count": 7,
   "metadata": {
    "ExecuteTime": {
     "end_time": "2023-08-06T09:39:27.019132Z",
     "start_time": "2023-08-06T09:39:21.973217Z"
    }
   },
   "outputs": [],
   "source": [
    "obs, info = env.reset()\n",
    "obs_agent2 = env.obs_agent_two()\n",
    "\n",
    "for _ in range(600):\n",
    "    env.render(mode=\"human\")\n",
    "    a1 = np.random.uniform(-1,1,4)\n",
    "    a2 = np.random.uniform(-1,1,4)    \n",
    "    obs, r, d, t, info = env.step(np.hstack([a1,a2]))    \n",
    "    obs_agent2 = env.obs_agent_two()\n",
    "    if d or t: break"
   ]
  },
  {
   "cell_type": "markdown",
   "metadata": {},
   "source": [
    "Without rendering, it runs much faster"
   ]
  },
  {
   "cell_type": "markdown",
   "metadata": {
    "ExecuteTime": {
     "end_time": "2019-01-11T07:57:48.631793Z",
     "start_time": "2019-01-11T07:57:48.627528Z"
    }
   },
   "source": [
    "\"info\" dict contains useful proxy rewards and winning information"
   ]
  },
  {
   "cell_type": "code",
   "execution_count": 8,
   "metadata": {
    "ExecuteTime": {
     "end_time": "2023-08-06T09:39:27.036179Z",
     "start_time": "2023-08-06T09:39:27.024383Z"
    }
   },
   "outputs": [
    {
     "data": {
      "text/plain": [
       "({'winner': 1,\n",
       "  'reward_closeness_to_puck': 0.0,\n",
       "  'reward_touch_puck': 0.0,\n",
       "  'reward_puck_direction': 0.0037968292236328126},\n",
       " {'winner': -1,\n",
       "  'reward_closeness_to_puck': -0.2598055351330323,\n",
       "  'reward_touch_puck': 0.0,\n",
       "  'reward_puck_direction': -0.0037968292236328126})"
      ]
     },
     "execution_count": 8,
     "metadata": {},
     "output_type": "execute_result"
    }
   ],
   "source": [
    "info, env.get_info_agent_two()"
   ]
  },
  {
   "cell_type": "markdown",
   "metadata": {
    "ExecuteTime": {
     "end_time": "2019-01-11T07:59:24.867441Z",
     "start_time": "2019-01-11T07:59:24.862324Z"
    }
   },
   "source": [
    "Winner == 0: draw\n",
    "\n",
    "Winner == 1: you (left player)\n",
    "\n",
    "Winner == -1: opponent wins (right player)"
   ]
  },
  {
   "cell_type": "code",
   "execution_count": 9,
   "metadata": {
    "ExecuteTime": {
     "end_time": "2023-08-06T09:39:46.656280Z",
     "start_time": "2023-08-06T09:39:46.631194Z"
    }
   },
   "outputs": [],
   "source": [
    "env.close()"
   ]
  },
  {
   "cell_type": "markdown",
   "metadata": {
    "ExecuteTime": {
     "end_time": "2018-12-20T20:37:41.013424Z",
     "start_time": "2018-12-20T20:37:41.009298Z"
    }
   },
   "source": [
    "# Train Shooting"
   ]
  },
  {
   "cell_type": "code",
   "execution_count": 10,
   "metadata": {
    "ExecuteTime": {
     "end_time": "2023-08-06T09:39:53.528715Z",
     "start_time": "2023-08-06T09:39:53.524264Z"
    }
   },
   "outputs": [
    {
     "ename": "AttributeError",
     "evalue": "type object 'HockeyEnv' has no attribute 'TRAIN_SHOOTING'",
     "output_type": "error",
     "traceback": [
      "\u001b[0;31m---------------------------------------------------------------------------\u001b[0m",
      "\u001b[0;31mAttributeError\u001b[0m                            Traceback (most recent call last)",
      "Cell \u001b[0;32mIn[10], line 1\u001b[0m\n\u001b[0;32m----> 1\u001b[0m env \u001b[38;5;241m=\u001b[39m h_env\u001b[38;5;241m.\u001b[39mHockeyEnv(mode\u001b[38;5;241m=\u001b[39m\u001b[43mh_env\u001b[49m\u001b[38;5;241;43m.\u001b[39;49m\u001b[43mHockeyEnv\u001b[49m\u001b[38;5;241;43m.\u001b[39;49m\u001b[43mTRAIN_SHOOTING\u001b[49m)\n",
      "\u001b[0;31mAttributeError\u001b[0m: type object 'HockeyEnv' has no attribute 'TRAIN_SHOOTING'"
     ]
    }
   ],
   "source": [
    "env = h_env.HockeyEnv(mode=h_env.HockeyEnv.TRAIN_SHOOTING)"
   ]
  },
  {
   "cell_type": "code",
   "execution_count": 11,
   "metadata": {
    "ExecuteTime": {
     "end_time": "2023-08-06T09:40:11.934130Z",
     "start_time": "2023-08-06T09:40:10.738953Z"
    }
   },
   "outputs": [
    {
     "ename": "error",
     "evalue": "display Surface quit",
     "output_type": "error",
     "traceback": [
      "\u001b[0;31m---------------------------------------------------------------------------\u001b[0m",
      "\u001b[0;31merror\u001b[0m                                     Traceback (most recent call last)",
      "Cell \u001b[0;32mIn[11], line 2\u001b[0m\n\u001b[1;32m      1\u001b[0m o, info \u001b[38;5;241m=\u001b[39m env\u001b[38;5;241m.\u001b[39mreset()\n\u001b[0;32m----> 2\u001b[0m _ \u001b[38;5;241m=\u001b[39m \u001b[43menv\u001b[49m\u001b[38;5;241;43m.\u001b[39;49m\u001b[43mrender\u001b[49m\u001b[43m(\u001b[49m\u001b[43m)\u001b[49m\n\u001b[1;32m      4\u001b[0m \u001b[38;5;28;01mfor\u001b[39;00m _ \u001b[38;5;129;01min\u001b[39;00m \u001b[38;5;28mrange\u001b[39m(\u001b[38;5;241m50\u001b[39m):\n\u001b[1;32m      5\u001b[0m     env\u001b[38;5;241m.\u001b[39mrender()\n",
      "File \u001b[0;32m~/miniconda3/lib/python3.12/site-packages/hockey/hockey_env.py:734\u001b[0m, in \u001b[0;36mHockeyEnv.render\u001b[0;34m(self, mode)\u001b[0m\n\u001b[1;32m    732\u001b[0m \u001b[38;5;28;01mif\u001b[39;00m mode \u001b[38;5;241m==\u001b[39m \u001b[38;5;124m\"\u001b[39m\u001b[38;5;124mhuman\u001b[39m\u001b[38;5;124m\"\u001b[39m:\n\u001b[1;32m    733\u001b[0m   \u001b[38;5;28;01massert\u001b[39;00m \u001b[38;5;28mself\u001b[39m\u001b[38;5;241m.\u001b[39mscreen \u001b[38;5;129;01mis\u001b[39;00m \u001b[38;5;129;01mnot\u001b[39;00m \u001b[38;5;28;01mNone\u001b[39;00m\n\u001b[0;32m--> 734\u001b[0m   \u001b[38;5;28;43mself\u001b[39;49m\u001b[38;5;241;43m.\u001b[39;49m\u001b[43mscreen\u001b[49m\u001b[38;5;241;43m.\u001b[39;49m\u001b[43mblit\u001b[49m\u001b[43m(\u001b[49m\u001b[38;5;28;43mself\u001b[39;49m\u001b[38;5;241;43m.\u001b[39;49m\u001b[43msurf\u001b[49m\u001b[43m,\u001b[49m\u001b[43m \u001b[49m\u001b[43m(\u001b[49m\u001b[38;5;241;43m0\u001b[39;49m\u001b[43m,\u001b[49m\u001b[43m \u001b[49m\u001b[38;5;241;43m0\u001b[39;49m\u001b[43m)\u001b[49m\u001b[43m)\u001b[49m\n\u001b[1;32m    735\u001b[0m   pygame\u001b[38;5;241m.\u001b[39mevent\u001b[38;5;241m.\u001b[39mpump()\n\u001b[1;32m    736\u001b[0m   \u001b[38;5;28mself\u001b[39m\u001b[38;5;241m.\u001b[39mclock\u001b[38;5;241m.\u001b[39mtick(\u001b[38;5;28mself\u001b[39m\u001b[38;5;241m.\u001b[39mmetadata[\u001b[38;5;124m\"\u001b[39m\u001b[38;5;124mrender_fps\u001b[39m\u001b[38;5;124m\"\u001b[39m])\n",
      "\u001b[0;31merror\u001b[0m: display Surface quit"
     ]
    }
   ],
   "source": [
    "o, info = env.reset()\n",
    "_ = env.render()\n",
    "\n",
    "for _ in range(50):\n",
    "    env.render()\n",
    "    a1 = [1,0,0,1] # np.random.uniform(-1,1,4)\n",
    "    a2 = [0,0.,0,0] \n",
    "    obs, r, d, t , info = env.step(np.hstack([a1,a2]))\n",
    "    obs_agent2 = env.obs_agent_two()\n",
    "    if d or t: break"
   ]
  },
  {
   "cell_type": "code",
   "execution_count": null,
   "metadata": {
    "ExecuteTime": {
     "end_time": "2023-08-06T09:45:40.837294Z",
     "start_time": "2023-08-06T09:45:40.798692Z"
    }
   },
   "outputs": [],
   "source": [
    "env.close()"
   ]
  },
  {
   "cell_type": "markdown",
   "metadata": {
    "ExecuteTime": {
     "end_time": "2018-12-20T20:37:41.013424Z",
     "start_time": "2018-12-20T20:37:41.009298Z"
    }
   },
   "source": [
    "# Train DEFENDING"
   ]
  },
  {
   "cell_type": "code",
   "execution_count": null,
   "metadata": {
    "ExecuteTime": {
     "end_time": "2020-12-21T21:44:32.862079Z",
     "start_time": "2020-12-21T21:44:32.855492Z"
    }
   },
   "outputs": [],
   "source": [
    "env = h_env.HockeyEnv(mode=h_env.HockeyEnv.TRAIN_DEFENSE)"
   ]
  },
  {
   "cell_type": "code",
   "execution_count": null,
   "metadata": {
    "ExecuteTime": {
     "end_time": "2020-12-21T21:44:33.916251Z",
     "start_time": "2020-12-21T21:44:33.569490Z"
    }
   },
   "outputs": [],
   "source": [
    "o, info = env.reset()\n",
    "_ = env.render()\n",
    "\n",
    "for _ in range(60):\n",
    "    env.render()\n",
    "    a1 = [0.1,0,0,1] # np.random.uniform(-1,1,3)\n",
    "    a2 = [0,0.,0,0] \n",
    "    obs, r, d, t, info = env.step(np.hstack([a1,a2]))\n",
    "    print(r)\n",
    "    obs_agent2 = env.obs_agent_two()\n",
    "    if d or t: break"
   ]
  },
  {
   "cell_type": "code",
   "execution_count": null,
   "metadata": {
    "ExecuteTime": {
     "end_time": "2020-12-21T21:44:41.470595Z",
     "start_time": "2020-12-21T21:44:41.456491Z"
    }
   },
   "outputs": [],
   "source": [
    "env.close()"
   ]
  },
  {
   "cell_type": "markdown",
   "metadata": {
    "ExecuteTime": {
     "end_time": "2018-12-20T20:37:41.013424Z",
     "start_time": "2018-12-20T20:37:41.009298Z"
    }
   },
   "source": [
    "# Using discrete actions"
   ]
  },
  {
   "cell_type": "code",
   "execution_count": 12,
   "metadata": {
    "ExecuteTime": {
     "end_time": "2020-12-21T21:44:52.876842Z",
     "start_time": "2020-12-21T21:44:52.872864Z"
    }
   },
   "outputs": [],
   "source": [
    "import random"
   ]
  },
  {
   "cell_type": "code",
   "execution_count": 13,
   "metadata": {
    "ExecuteTime": {
     "end_time": "2020-12-21T21:44:54.433468Z",
     "start_time": "2020-12-21T21:44:54.428476Z"
    }
   },
   "outputs": [
    {
     "ename": "AttributeError",
     "evalue": "type object 'HockeyEnv' has no attribute 'TRAIN_SHOOTING'",
     "output_type": "error",
     "traceback": [
      "\u001b[0;31m---------------------------------------------------------------------------\u001b[0m",
      "\u001b[0;31mAttributeError\u001b[0m                            Traceback (most recent call last)",
      "Cell \u001b[0;32mIn[13], line 1\u001b[0m\n\u001b[0;32m----> 1\u001b[0m env \u001b[38;5;241m=\u001b[39m h_env\u001b[38;5;241m.\u001b[39mHockeyEnv(mode\u001b[38;5;241m=\u001b[39m\u001b[43mh_env\u001b[49m\u001b[38;5;241;43m.\u001b[39;49m\u001b[43mHockeyEnv\u001b[49m\u001b[38;5;241;43m.\u001b[39;49m\u001b[43mTRAIN_SHOOTING\u001b[49m)\n",
      "\u001b[0;31mAttributeError\u001b[0m: type object 'HockeyEnv' has no attribute 'TRAIN_SHOOTING'"
     ]
    }
   ],
   "source": [
    "env = h_env.HockeyEnv(mode=h_env.HockeyEnv.TRAIN_SHOOTING)"
   ]
  },
  {
   "cell_type": "code",
   "execution_count": 14,
   "metadata": {
    "ExecuteTime": {
     "end_time": "2020-12-21T21:45:21.317261Z",
     "start_time": "2020-12-21T21:45:19.980472Z"
    }
   },
   "outputs": [
    {
     "ename": "error",
     "evalue": "display Surface quit",
     "output_type": "error",
     "traceback": [
      "\u001b[0;31m---------------------------------------------------------------------------\u001b[0m",
      "\u001b[0;31merror\u001b[0m                                     Traceback (most recent call last)",
      "Cell \u001b[0;32mIn[14], line 3\u001b[0m\n\u001b[1;32m      1\u001b[0m env\u001b[38;5;241m.\u001b[39mreset()\n\u001b[1;32m      2\u001b[0m \u001b[38;5;28;01mfor\u001b[39;00m _ \u001b[38;5;129;01min\u001b[39;00m \u001b[38;5;28mrange\u001b[39m(\u001b[38;5;241m251\u001b[39m):\n\u001b[0;32m----> 3\u001b[0m     \u001b[43menv\u001b[49m\u001b[38;5;241;43m.\u001b[39;49m\u001b[43mrender\u001b[49m\u001b[43m(\u001b[49m\u001b[43m)\u001b[49m\n\u001b[1;32m      4\u001b[0m     a1_discrete \u001b[38;5;241m=\u001b[39m random\u001b[38;5;241m.\u001b[39mrandint(\u001b[38;5;241m0\u001b[39m,\u001b[38;5;241m7\u001b[39m)\n\u001b[1;32m      5\u001b[0m     a1 \u001b[38;5;241m=\u001b[39m env\u001b[38;5;241m.\u001b[39mdiscrete_to_continous_action(a1_discrete)\n",
      "File \u001b[0;32m~/miniconda3/lib/python3.12/site-packages/hockey/hockey_env.py:734\u001b[0m, in \u001b[0;36mHockeyEnv.render\u001b[0;34m(self, mode)\u001b[0m\n\u001b[1;32m    732\u001b[0m \u001b[38;5;28;01mif\u001b[39;00m mode \u001b[38;5;241m==\u001b[39m \u001b[38;5;124m\"\u001b[39m\u001b[38;5;124mhuman\u001b[39m\u001b[38;5;124m\"\u001b[39m:\n\u001b[1;32m    733\u001b[0m   \u001b[38;5;28;01massert\u001b[39;00m \u001b[38;5;28mself\u001b[39m\u001b[38;5;241m.\u001b[39mscreen \u001b[38;5;129;01mis\u001b[39;00m \u001b[38;5;129;01mnot\u001b[39;00m \u001b[38;5;28;01mNone\u001b[39;00m\n\u001b[0;32m--> 734\u001b[0m   \u001b[38;5;28;43mself\u001b[39;49m\u001b[38;5;241;43m.\u001b[39;49m\u001b[43mscreen\u001b[49m\u001b[38;5;241;43m.\u001b[39;49m\u001b[43mblit\u001b[49m\u001b[43m(\u001b[49m\u001b[38;5;28;43mself\u001b[39;49m\u001b[38;5;241;43m.\u001b[39;49m\u001b[43msurf\u001b[49m\u001b[43m,\u001b[49m\u001b[43m \u001b[49m\u001b[43m(\u001b[49m\u001b[38;5;241;43m0\u001b[39;49m\u001b[43m,\u001b[49m\u001b[43m \u001b[49m\u001b[38;5;241;43m0\u001b[39;49m\u001b[43m)\u001b[49m\u001b[43m)\u001b[49m\n\u001b[1;32m    735\u001b[0m   pygame\u001b[38;5;241m.\u001b[39mevent\u001b[38;5;241m.\u001b[39mpump()\n\u001b[1;32m    736\u001b[0m   \u001b[38;5;28mself\u001b[39m\u001b[38;5;241m.\u001b[39mclock\u001b[38;5;241m.\u001b[39mtick(\u001b[38;5;28mself\u001b[39m\u001b[38;5;241m.\u001b[39mmetadata[\u001b[38;5;124m\"\u001b[39m\u001b[38;5;124mrender_fps\u001b[39m\u001b[38;5;124m\"\u001b[39m])\n",
      "\u001b[0;31merror\u001b[0m: display Surface quit"
     ]
    }
   ],
   "source": [
    "env.reset()\n",
    "for _ in range(251):\n",
    "    env.render()\n",
    "    a1_discrete = random.randint(0,7)\n",
    "    a1 = env.discrete_to_continous_action(a1_discrete)\n",
    "    a2 = [0,0.,0,0 ] \n",
    "    obs, r, d, t, info = env.step(np.hstack([a1,a2]))    \n",
    "    obs_agent2 = env.obs_agent_two()\n",
    "    if d or t: break"
   ]
  },
  {
   "cell_type": "code",
   "execution_count": 15,
   "metadata": {
    "ExecuteTime": {
     "end_time": "2020-12-21T21:45:24.873214Z",
     "start_time": "2020-12-21T21:45:24.863047Z"
    }
   },
   "outputs": [],
   "source": [
    "env.close()"
   ]
  },
  {
   "cell_type": "markdown",
   "metadata": {
    "ExecuteTime": {
     "end_time": "2018-12-20T20:37:41.013424Z",
     "start_time": "2018-12-20T20:37:41.009298Z"
    }
   },
   "source": [
    "# Hand-crafted Opponent"
   ]
  },
  {
   "cell_type": "code",
   "execution_count": 16,
   "metadata": {
    "ExecuteTime": {
     "end_time": "2023-08-06T09:41:18.966441Z",
     "start_time": "2023-08-06T09:41:18.957901Z"
    }
   },
   "outputs": [],
   "source": [
    "env = h_env.HockeyEnv()"
   ]
  },
  {
   "cell_type": "code",
   "execution_count": 17,
   "metadata": {
    "ExecuteTime": {
     "end_time": "2023-08-06T09:42:34.996115Z",
     "start_time": "2023-08-06T09:42:34.972070Z"
    }
   },
   "outputs": [],
   "source": [
    "o, info = env.reset()\n",
    "_ = env.render()\n",
    "player1 = h_env.BasicOpponent(weak=False)\n",
    "player2 = h_env.BasicOpponent()"
   ]
  },
  {
   "cell_type": "code",
   "execution_count": 18,
   "metadata": {
    "ExecuteTime": {
     "end_time": "2023-08-06T09:42:46.568098Z",
     "start_time": "2023-08-06T09:42:45.263259Z"
    }
   },
   "outputs": [],
   "source": [
    "obs_buffer = []\n",
    "reward_buffer=[]\n",
    "obs, info = env.reset()\n",
    "obs_agent2 = env.obs_agent_two()\n",
    "for _ in range(251):\n",
    "    env.render()\n",
    "    a1 = player1.act(obs)\n",
    "    a2 = player2.act(obs_agent2)\n",
    "    obs, r, d, t, info = env.step(np.hstack([a1,a2]))    \n",
    "    obs_buffer.append(obs)\n",
    "    reward_buffer.append(r)\n",
    "    obs_agent2 = env.obs_agent_two()\n",
    "    if d or t: break\n",
    "obs_buffer = np.asarray(obs_buffer)\n",
    "reward_buffer = np.asarray(reward_buffer)"
   ]
  },
  {
   "cell_type": "code",
   "execution_count": 19,
   "metadata": {
    "ExecuteTime": {
     "end_time": "2023-08-06T09:42:51.468246Z",
     "start_time": "2023-08-06T09:42:51.459819Z"
    }
   },
   "outputs": [
    {
     "data": {
      "text/plain": [
       "array([-3.00637722, -0.01520795,  0.03531432, -0.07678107, -0.16213581,\n",
       "        0.1795366 ,  2.98251374,  0.11488631, -0.02895056, -0.00468475,\n",
       "        0.07795004,  0.02120797, -0.68075777, -0.08392287, -0.11701156,\n",
       "       -0.26144141,  0.83665339,  0.        ])"
      ]
     },
     "execution_count": 19,
     "metadata": {},
     "output_type": "execute_result"
    }
   ],
   "source": [
    "np.mean(obs_buffer,axis=0)"
   ]
  },
  {
   "cell_type": "code",
   "execution_count": 20,
   "metadata": {
    "ExecuteTime": {
     "end_time": "2023-08-06T09:42:52.022533Z",
     "start_time": "2023-08-06T09:42:52.012350Z"
    }
   },
   "outputs": [
    {
     "data": {
      "text/plain": [
       "array([ 0.69986279,  1.06493535,  0.65314476,  3.92898491,  6.22662474,\n",
       "        3.54820889,  0.83709532,  0.33334781,  0.12855654,  3.41757038,\n",
       "        1.4090005 ,  0.6942286 ,  1.87926993,  1.64854457,  8.2659594 ,\n",
       "       12.37345526,  2.95672829,  0.        ])"
      ]
     },
     "execution_count": 20,
     "metadata": {},
     "output_type": "execute_result"
    }
   ],
   "source": [
    "np.std(obs_buffer,axis=0)"
   ]
  },
  {
   "cell_type": "markdown",
   "metadata": {},
   "source": [
    "If you want to use a fixed observation scaling, this might be a reasonable choice"
   ]
  },
  {
   "cell_type": "code",
   "execution_count": 21,
   "metadata": {
    "ExecuteTime": {
     "end_time": "2020-12-21T21:45:59.816528Z",
     "start_time": "2020-12-21T21:45:59.811341Z"
    }
   },
   "outputs": [],
   "source": [
    "scaling = [ 1.0,  1.0 , 0.5, 4.0, 4.0, 4.0,  \n",
    "            1.0,  1.0,  0.5, 4.0, 4.0, 4.0,  \n",
    "            2.0, 2.0, 10.0, 10.0, 4,0 ,4,0]"
   ]
  },
  {
   "cell_type": "code",
   "execution_count": 22,
   "metadata": {
    "ExecuteTime": {
     "end_time": "2020-12-21T21:46:00.487281Z",
     "start_time": "2020-12-21T21:46:00.483124Z"
    }
   },
   "outputs": [],
   "source": [
    "import pylab as plt"
   ]
  },
  {
   "cell_type": "code",
   "execution_count": 23,
   "metadata": {
    "ExecuteTime": {
     "end_time": "2020-12-21T21:46:01.180182Z",
     "start_time": "2020-12-21T21:46:01.042905Z"
    }
   },
   "outputs": [
    {
     "data": {
      "text/plain": [
       "[<matplotlib.lines.Line2D at 0x75db5dbc5670>]"
      ]
     },
     "execution_count": 23,
     "metadata": {},
     "output_type": "execute_result"
    },
    {
     "data": {
      "image/png": "[encoded data removed]",
      "text/plain": [
       "<Figure size 640x480 with 1 Axes>"
      ]
     },
     "metadata": {},
     "output_type": "display_data"
    }
   ],
   "source": [
    "plt.plot(obs_buffer[:,2])\n",
    "plt.plot(obs_buffer[:,8])"
   ]
  },
  {
   "cell_type": "code",
   "execution_count": 24,
   "metadata": {
    "ExecuteTime": {
     "end_time": "2020-12-21T21:46:02.017740Z",
     "start_time": "2020-12-21T21:46:01.882805Z"
    }
   },
   "outputs": [
    {
     "data": {
      "text/plain": [
       "[<matplotlib.lines.Line2D at 0x75db5d9465d0>]"
      ]
     },
     "execution_count": 24,
     "metadata": {},
     "output_type": "execute_result"
    },
    {
     "data": {
      "image/png": "[encoded data removed]",
      "text/plain": [
       "<Figure size 640x480 with 1 Axes>"
      ]
     },
     "metadata": {},
     "output_type": "display_data"
    }
   ],
   "source": [
    "plt.plot(obs_buffer[:,12])"
   ]
  },
  {
   "cell_type": "code",
   "execution_count": 25,
   "metadata": {},
   "outputs": [
    {
     "data": {
      "text/plain": [
       "[<matplotlib.lines.Line2D at 0x75db5d9a7c80>]"
      ]
     },
     "execution_count": 25,
     "metadata": {},
     "output_type": "execute_result"
    },
    {
     "data": {
      "image/png": "[encoded data removed]",
      "text/plain": [
       "<Figure size 640x480 with 1 Axes>"
      ]
     },
     "metadata": {},
     "output_type": "display_data"
    }
   ],
   "source": [
    "plt.plot(reward_buffer[:])"
   ]
  },
  {
   "cell_type": "code",
   "execution_count": 26,
   "metadata": {},
   "outputs": [
    {
     "data": {
      "text/plain": [
       "-15.113178073563795"
      ]
     },
     "execution_count": 26,
     "metadata": {},
     "output_type": "execute_result"
    }
   ],
   "source": [
    "np.sum(reward_buffer)"
   ]
  },
  {
   "cell_type": "code",
   "execution_count": 27,
   "metadata": {
    "ExecuteTime": {
     "end_time": "2023-08-06T09:49:45.806206Z",
     "start_time": "2023-08-06T09:49:45.796608Z"
    }
   },
   "outputs": [
    {
     "data": {
      "text/plain": [
       "({'winner': 0,\n",
       "  'reward_closeness_to_puck': -0.0839985005763039,\n",
       "  'reward_touch_puck': 0.0,\n",
       "  'reward_puck_direction': -9.72580909729004e-06},\n",
       " {'winner': 0,\n",
       "  'reward_closeness_to_puck': 0.0,\n",
       "  'reward_touch_puck': 0.0,\n",
       "  'reward_puck_direction': 9.72580909729004e-06},\n",
       " -0.0839985005763039,\n",
       " 0.0)"
      ]
     },
     "execution_count": 27,
     "metadata": {},
     "output_type": "execute_result"
    }
   ],
   "source": [
    "info2 = env.get_info_agent_two()\n",
    "info, info2, env.get_reward(info), env.get_reward_agent_two(info2)"
   ]
  },
  {
   "cell_type": "code",
   "execution_count": 28,
   "metadata": {
    "ExecuteTime": {
     "end_time": "2020-12-21T21:46:02.934754Z",
     "start_time": "2020-12-21T21:46:02.922824Z"
    }
   },
   "outputs": [],
   "source": [
    "env.close()"
   ]
  },
  {
   "cell_type": "markdown",
   "metadata": {},
   "source": [
    "# Human Opponent"
   ]
  },
  {
   "cell_type": "code",
   "execution_count": null,
   "metadata": {
    "ExecuteTime": {
     "end_time": "2020-12-21T21:46:11.226543Z",
     "start_time": "2020-12-21T21:46:11.220285Z"
    }
   },
   "outputs": [],
   "source": [
    "env = h_env.HockeyEnv()"
   ]
  },
  {
   "cell_type": "code",
   "execution_count": null,
   "metadata": {
    "ExecuteTime": {
     "end_time": "2020-12-21T21:40:55.480803Z",
     "start_time": "2020-12-21T21:40:55.424242Z"
    }
   },
   "outputs": [],
   "source": [
    "player1 = h_env.HumanOpponent(env=env, player=1)\n",
    "player2 = h_env.BasicOpponent()\n"
   ]
  },
  {
   "cell_type": "code",
   "execution_count": null,
   "metadata": {
    "ExecuteTime": {
     "end_time": "2020-12-21T21:41:58.586380Z",
     "start_time": "2020-12-21T21:41:58.580405Z"
    }
   },
   "outputs": [],
   "source": [
    "player1 = h_env.BasicOpponent()\n",
    "player2 = h_env.HumanOpponent(env=env, player=2)\n"
   ]
  },
  {
   "cell_type": "code",
   "execution_count": null,
   "metadata": {
    "ExecuteTime": {
     "end_time": "2020-12-21T21:47:04.759309Z",
     "start_time": "2020-12-21T21:46:32.086840Z"
    }
   },
   "outputs": [],
   "source": [
    "obs, info = env.reset()\n",
    "\n",
    "env.render()\n",
    "time.sleep(1)\n",
    "obs_agent2 = env.obs_agent_two()\n",
    "for _ in range(100):\n",
    "    time.sleep(0.2)\n",
    "    env.render()\n",
    "    a1 = player1.act(obs) \n",
    "    a2 = player2.act(obs_agent2)\n",
    "    obs, r, d, _, info = env.step(np.hstack([a1,a2]))    \n",
    "    obs_agent2 = env.obs_agent_two()\n",
    "    if d: break"
   ]
  },
  {
   "cell_type": "code",
   "execution_count": null,
   "metadata": {
    "ExecuteTime": {
     "end_time": "2020-12-21T21:47:08.152651Z",
     "start_time": "2020-12-21T21:47:08.139597Z"
    }
   },
   "outputs": [],
   "source": [
    "env.close()"
   ]
  },
  {
   "cell_type": "code",
   "execution_count": null,
   "metadata": {},
   "outputs": [],
   "source": []
  },
  {
   "cell_type": "markdown",
   "metadata": {
    "ExecuteTime": {
     "end_time": "2018-12-20T20:37:41.013424Z",
     "start_time": "2018-12-20T20:37:41.009298Z"
    }
   },
   "source": [
    "# Check side consistency"
   ]
  },
  {
   "cell_type": "code",
   "execution_count": 36,
   "metadata": {
    "ExecuteTime": {
     "end_time": "2023-08-06T09:55:05.915380Z",
     "start_time": "2023-08-06T09:55:05.907736Z"
    }
   },
   "outputs": [],
   "source": [
    "env = h_env.HockeyEnv()"
   ]
  },
  {
   "cell_type": "code",
   "execution_count": 37,
   "metadata": {
    "ExecuteTime": {
     "end_time": "2023-08-06T10:25:13.354179Z",
     "start_time": "2023-08-06T10:25:13.294925Z"
    }
   },
   "outputs": [],
   "source": [
    "o, info = env.reset()\n",
    "_ = env.render()\n",
    "player1 = h_env.BasicOpponent(weak=False)\n",
    "player2 = h_env.BasicOpponent(weak=False)"
   ]
  },
  {
   "cell_type": "code",
   "execution_count": null,
   "metadata": {
    "ExecuteTime": {
     "end_time": "2023-08-06T10:34:30.725239Z",
     "start_time": "2023-08-06T10:33:37.389331Z"
    }
   },
   "outputs": [],
   "source": [
    "obs_buffer = []\n",
    "reward_buffer=[]\n",
    "obs2_buffer = []\n",
    "winner_buffer = []\n",
    "reward2_buffer=[]\n",
    "for game in range(1000):\n",
    "    obs, info = env.reset()\n",
    "    obs_agent2 = env.obs_agent_two()\n",
    "    for _ in range(500):\n",
    "        # env.render()\n",
    "        a1 = player1.act(obs)\n",
    "        a2 = player2.act(obs_agent2)\n",
    "#        a1 = np.random.uniform(-1,1,4)\n",
    "#        a2 = np.random.uniform(-1,1,4)    \n",
    "        obs, r, d, t, info = env.step(np.hstack([a1,a2]))\n",
    "        info2 = env.get_info_agent_two()\n",
    "        r2 = env.get_reward_agent_two(info2)\n",
    "        obs_buffer.append(obs)\n",
    "        obs_agent2 = env.obs_agent_two()\n",
    "        obs2_buffer.append(obs_agent2)\n",
    "        reward_buffer.append(r)\n",
    "        reward2_buffer.append(r2)\n",
    "        if d or t:\n",
    "            winner_buffer.append(info[\"winner\"])\n",
    "            break\n",
    "obs_buffer = np.asarray(obs_buffer)\n",
    "reward_buffer = np.asarray(reward_buffer)\n",
    "obs2_buffer = np.asarray(obs2_buffer)\n",
    "reward2_buffer = np.asarray(reward2_buffer)"
   ]
  },
  {
   "cell_type": "code",
   "execution_count": null,
   "metadata": {
    "ExecuteTime": {
     "end_time": "2023-08-06T10:34:30.732010Z",
     "start_time": "2023-08-06T10:34:30.728070Z"
    }
   },
   "outputs": [],
   "source": [
    "obs_buffer.shape"
   ]
  },
  {
   "cell_type": "code",
   "execution_count": null,
   "metadata": {
    "ExecuteTime": {
     "end_time": "2023-08-06T10:34:30.746663Z",
     "start_time": "2023-08-06T10:34:30.733445Z"
    }
   },
   "outputs": [],
   "source": [
    "np.mean(obs_buffer,axis=0)"
   ]
  },
  {
   "cell_type": "code",
   "execution_count": null,
   "metadata": {
    "ExecuteTime": {
     "end_time": "2023-08-06T10:34:30.809201Z",
     "start_time": "2023-08-06T10:34:30.749382Z"
    }
   },
   "outputs": [],
   "source": [
    "(np.std(obs_buffer,axis=0) - np.std(obs2_buffer,axis=0)) / np.std(obs_buffer,axis=0)"
   ]
  },
  {
   "cell_type": "code",
   "execution_count": null,
   "metadata": {
    "ExecuteTime": {
     "end_time": "2023-08-06T10:34:30.821211Z",
     "start_time": "2023-08-06T10:34:30.810592Z"
    }
   },
   "outputs": [],
   "source": [
    "winner_buffer"
   ]
  },
  {
   "cell_type": "code",
   "execution_count": null,
   "metadata": {
    "ExecuteTime": {
     "end_time": "2023-08-06T10:34:30.828943Z",
     "start_time": "2023-08-06T10:34:30.823232Z"
    }
   },
   "outputs": [],
   "source": [
    "np.mean(winner_buffer,axis=0)"
   ]
  },
  {
   "cell_type": "code",
   "execution_count": null,
   "metadata": {
    "ExecuteTime": {
     "end_time": "2023-08-06T10:34:30.834702Z",
     "start_time": "2023-08-06T10:34:30.830383Z"
    }
   },
   "outputs": [],
   "source": [
    "np.std(winner_buffer,axis=0)"
   ]
  },
  {
   "cell_type": "code",
   "execution_count": null,
   "metadata": {
    "ExecuteTime": {
     "end_time": "2023-08-06T10:34:44.699821Z",
     "start_time": "2023-08-06T10:34:44.692772Z"
    }
   },
   "outputs": [],
   "source": [
    "np.sum(reward_buffer), np.sum(reward2_buffer)"
   ]
  },
  {
   "cell_type": "code",
   "execution_count": null,
   "metadata": {
    "ExecuteTime": {
     "end_time": "2023-08-06T10:35:19.971723Z",
     "start_time": "2023-08-06T10:35:19.929115Z"
    }
   },
   "outputs": [],
   "source": [
    "env.close()"
   ]
  },
  {
   "cell_type": "code",
   "execution_count": null,
   "metadata": {},
   "outputs": [],
   "source": []
  },
  {
   "cell_type": "code",
   "execution_count": null,
   "metadata": {},
   "outputs": [],
   "source": []
  }
 ],
 "metadata": {
  "kernelspec": {
   "display_name": "Gym-RL",
   "language": "python",
   "name": "gym-rl"
  },
  "language_info": {
   "codemirror_mode": {
    "name": "ipython",
    "version": 3
   },
   "file_extension": ".py",
   "mimetype": "text/x-python",
   "name": "python",
   "nbconvert_exporter": "python",
   "pygments_lexer": "ipython3",
   "version": "3.12.2"
  },
  "toc": {
   "base_numbering": 1,
   "nav_menu": {},
   "number_sections": true,
   "sideBar": true,
   "skip_h1_title": false,
   "title_cell": "Table of Contents",
   "title_sidebar": "Contents",
   "toc_cell": false,
   "toc_position": {},
   "toc_section_display": true,
   "toc_window_display": false
  }
 },
 "nbformat": 4,
 "nbformat_minor": 4
}
